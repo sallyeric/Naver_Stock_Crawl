{
  "nbformat": 4,
  "nbformat_minor": 0,
  "metadata": {
    "colab": {
      "name": "WebCrawl.ipynb",
      "provenance": [],
      "collapsed_sections": []
    },
    "kernelspec": {
      "name": "python3",
      "display_name": "Python 3"
    },
    "language_info": {
      "name": "python"
    }
  },
  "cells": [
    {
      "cell_type": "code",
      "metadata": {
        "id": "3uGbQWbnBj7i"
      },
      "source": [
        "from bs4 import BeautifulSoup\n",
        "import requests\n",
        "import re\n",
        "import pandas as pd\n",
        "import os "
      ],
      "execution_count": 15,
      "outputs": []
    },
    {
      "cell_type": "code",
      "metadata": {
        "colab": {
          "base_uri": "https://localhost:8080/"
        },
        "id": "qkOUaq64C4cd",
        "outputId": "e068ee1f-6e8c-40cb-cd07-9a2940061287"
      },
      "source": [
        "from google.colab import drive\n",
        "drive.mount('/content/gdrive')"
      ],
      "execution_count": 24,
      "outputs": [
        {
          "output_type": "stream",
          "text": [
            "Mounted at /content/gdrive\n"
          ],
          "name": "stdout"
        }
      ]
    },
    {
      "cell_type": "code",
      "metadata": {
        "id": "GQYS5XznBoJ2"
      },
      "source": [
        "# 경로 지정\n",
        "os.chdir('/content/gdrive/My Drive/Colab Notebooks/')"
      ],
      "execution_count": 25,
      "outputs": []
    },
    {
      "cell_type": "code",
      "metadata": {
        "id": "xfyyiw_gCAim"
      },
      "source": [
        "def crawler(company_code, maxpage):\n",
        "    \n",
        "    page = 1 \n",
        "    \n",
        "    while page <= int(maxpage): \n",
        "    \n",
        "        url = 'https://finance.naver.com/item/news_news.nhn?code=' + str(company_code) + '&page=' + str(page) \n",
        "        print(url)\n",
        "        source_code = requests.get(url).text\n",
        "        html = BeautifulSoup(source_code, \"lxml\")\n",
        "     \n",
        " \n",
        "        \n",
        "        # 뉴스 제목 \n",
        "        titles = html.select('.title')\n",
        "        title_result=[]\n",
        "        for title in titles: \n",
        "            title = title.get_text() \n",
        "            title = re.sub('\\n','',title)\n",
        "            title_result.append(title)\n",
        " \n",
        "        # 뉴스 링크\n",
        "        links = html.select('.title') \n",
        " \n",
        "        link_result =[]\n",
        "        for link in links: \n",
        "            add = 'https://finance.naver.com' + link.find('a')['href']\n",
        "            link_result.append(add)\n",
        "\n",
        " \n",
        "        # 뉴스 본문\n",
        "        links = html.select('.title') \n",
        "\n",
        "        content_result =[]\n",
        "        for link2 in links: \n",
        "          add2 = 'https://finance.naver.com' + link2.find('a')['href']\n",
        "          url2 = add2\n",
        "          print(\"url2: \"+ url2)\n",
        "          source_code2 = requests.get(url2).text\n",
        "          html2 = BeautifulSoup(source_code2, \"lxml\")\n",
        "\n",
        "          contents = html2.select('.scr01')\n",
        "          content_whole = [content.get_text() for content in contents] \n",
        "          content_result.append(content_whole)\n",
        "\n",
        "\n",
        "        # 뉴스 날짜 \n",
        "        dates = html.select('.date') \n",
        "        date_result = [date.get_text() for date in dates] \n",
        " \n",
        " \n",
        "        # 뉴스 매체     \n",
        "        sources = html.select('.info')\n",
        "        source_result = [source.get_text() for source in sources] \n",
        "\n",
        "        print(title_result)\n",
        "        print(link_result)\n",
        "        print(date_result)\n",
        "        print(source_result)\n",
        " \n",
        " \n",
        "        # 변수들 합쳐서 해당 디렉토리에 csv파일로 저장하기 \n",
        " \n",
        "        result= {\"날짜\" : date_result, \"언론사\" : source_result, \"기사제목\" : title_result, \"링크\" : link_result, \"본문\" : content_result} \n",
        "        df_result = pd.DataFrame(dict([ (k,pd.Series(v)) for k,v in result.items() ]))\n",
        "\n",
        "        df_result.to_csv('./crawled_data/'+'page' + str(page) + '.csv', mode='a', encoding='utf-8-sig')             \n",
        " \n",
        "        page += 1 "
      ],
      "execution_count": 106,
      "outputs": []
    },
    {
      "cell_type": "code",
      "metadata": {
        "id": "j5OCVyZJCAck"
      },
      "source": [
        "# 종목 리스트 파일 열기  \n",
        "# 회사명을 종목코드로 변환 \n",
        "        \n",
        "def convert_to_code(company, maxpage):\n",
        "    \n",
        "    data = pd.read_csv('./crawl_data/company_list.txt', dtype=str, sep='\\t')   # 종목코드 추출 \n",
        "    company_name = data['회사명']\n",
        "    keys = [i for i in company_name]    #데이터프레임에서 리스트로 바꾸기 \n",
        " \n",
        "    company_code = data['종목코드']\n",
        "    values = [j for j in company_code]\n",
        " \n",
        "    dict_result = dict(zip(keys, values))  # 딕셔너리 형태로 회사이름과 종목코드 묶기 \n",
        "    \n",
        "    pattern = '[a-zA-Z가-힣]+' \n",
        "    \n",
        "    if bool(re.match(pattern, company)) == True:         # Input에 이름으로 넣었을 때  \n",
        "        company_code = dict_result.get(str(company))\n",
        "        crawler(company_code, maxpage)\n",
        "        print(company_code)\n",
        " \n",
        "    \n",
        "    else:                                                # Input에 종목코드로 넣었을 때       \n",
        "        company_code = str(company)      \n",
        "        # crawler(company_code, maxpage)\n",
        "        print(company_code)"
      ],
      "execution_count": 53,
      "outputs": []
    },
    {
      "cell_type": "code",
      "metadata": {
        "id": "vQut-mteCHVA"
      },
      "source": [
        "def main():\n",
        "    info_main = input(\"=\"*50+\"\\n\"+\"실시간 뉴스기사 다운받기.\"+\"\\n\"+\" 시작하시려면 Enter를 눌러주세요.\"+\"\\n\"+\"=\"*50)\n",
        "    \n",
        "    company = input(\"종목 이름이나 코드 입력: \") \n",
        "    \n",
        "    maxpage = input(\"최대 뉴스 페이지 수 입력: \")  \n",
        " \n",
        "    convert_to_code(company, maxpage) "
      ],
      "execution_count": 54,
      "outputs": []
    },
    {
      "cell_type": "code",
      "metadata": {
        "colab": {
          "base_uri": "https://localhost:8080/"
        },
        "id": "iyvce7ohCIZV",
        "outputId": "891890d1-f489-485c-98b8-36b6c4012a83"
      },
      "source": [
        "main()"
      ],
      "execution_count": 107,
      "outputs": [
        {
          "output_type": "stream",
          "text": [
            "==================================================\n",
            "실시간 뉴스기사 다운받기.\n",
            " 시작하시려면 Enter를 눌러주세요.\n",
            "==================================================\n",
            "종목 이름이나 코드 입력: 삼성전자\n",
            "최대 뉴스 페이지 수 입력: 1\n",
            "https://finance.naver.com/item/news_news.nhn?code=005930&page=1\n",
            "url2: https://finance.naver.com/item/news_read.nhn?article_id=0004879073&office_id=277&code=005930&page=1&sm=\n",
            "url2: https://finance.naver.com/item/news_read.nhn?article_id=0004524833&office_id=015&code=005930&page=1&sm=\n",
            "url2: https://finance.naver.com/item/news_read.nhn?article_id=0004614469&office_id=014&code=005930&page=1&sm=\n",
            "url2: https://finance.naver.com/item/news_read.nhn?article_id=0001816858&office_id=016&code=005930&page=1&sm=\n",
            "url2: https://finance.naver.com/item/news_read.nhn?article_id=0004567911&office_id=008&code=005930&page=1&sm=\n",
            "url2: https://finance.naver.com/item/news_read.nhn?article_id=0001816708&office_id=016&code=005930&page=1&sm=\n",
            "url2: https://finance.naver.com/item/news_read.nhn?article_id=0004878780&office_id=277&code=005930&page=1&sm=\n",
            "url2: https://finance.naver.com/item/news_read.nhn?article_id=0003892703&office_id=011&code=005930&page=1&sm=\n",
            "url2: https://finance.naver.com/item/news_read.nhn?article_id=0004878987&office_id=277&code=005930&page=1&sm=\n",
            "url2: https://finance.naver.com/item/news_read.nhn?article_id=0004567998&office_id=008&code=005930&page=1&sm=\n",
            "url2: https://finance.naver.com/item/news_read.nhn?article_id=0001816820&office_id=016&code=005930&page=1&sm=\n",
            "url2: https://finance.naver.com/item/news_read.nhn?article_id=0004774403&office_id=009&code=005930&page=1&sm=\n",
            "url2: https://finance.naver.com/item/news_read.nhn?article_id=0003892773&office_id=011&code=005930&page=1&sm=\n",
            "url2: https://finance.naver.com/item/news_read.nhn?article_id=0004893250&office_id=018&code=005930&page=1&sm=\n",
            "url2: https://finance.naver.com/item/news_read.nhn?article_id=0004878880&office_id=277&code=005930&page=1&sm=\n",
            "url2: https://finance.naver.com/item/news_read.nhn?article_id=0001816817&office_id=016&code=005930&page=1&sm=\n",
            "url2: https://finance.naver.com/item/news_read.nhn?article_id=0004774404&office_id=009&code=005930&page=1&sm=\n",
            "url2: https://finance.naver.com/item/news_read.nhn?article_id=0004893249&office_id=018&code=005930&page=1&sm=\n",
            "['한미글로벌, 삼성전자와 181억 규모 품질감리 용역 체결', '한미글로벌, 삼성전자와 181억원 규모 용역제공 계약[주목 e공시]', \"삼성전자, 올해도 기초과학 분야에 464억 '통 큰 지원'\", '기초과학·소재·ICT 연구 총력…삼성, 27개 분야 464억원 지원', \"삼성 '464억' 통큰 지원…온난화·남성불임 해결에 힘보탠다\", '삼성전자, 기초과학·소재·ICT 연구에 464억원 지원', '삼성전자, 올 상반기 미래기술육성사업 지원 과제 선정', '머신러닝부터 DNA해독까지···삼성전자, 미래 기술 지원사업 발표', '[LG폰 철수]빈 자리 누가 차지하나…삼성 폰 독주체제 심화될 듯', 'LG 스마트폰 빈자리, 국내시장은 삼성 몫…해외는?', '삼성전자, 차세대 N-ERP 시스템 도입 “경영혁신 지원한다”', \"삼성전자, 차세대 ERP 시스템 'N-ERP' 구축…동·서남아, 중국...\", '삼성전자, 경영혁신 지원할 차세대 시스템 ‘N-ERP’ 도입', \"삼성전자, 차세대 전사자원관리 시스템 'N-ERP' 도입\", '삼성전자, 차세대 \\'N-ERP\\' 시스템 도입…\"내년 1월까지 전세계 ...', '삼성 ‘갤럭시탭 S7·S7+’ 미스틱 네이비 신규 색상 출시', \"삼성전자, '갤럭시 탭S7·7+' 미스틱 네이비 색상 출시…갤럭시 태...\", '삼성전자, 12GB램 ‘갤럭시 탭 S7·S7+’ 미스틱 네이비 8일 출...']\n",
            "['https://finance.naver.com/item/news_read.nhn?article_id=0004879073&office_id=277&code=005930&page=1&sm=', 'https://finance.naver.com/item/news_read.nhn?article_id=0004524833&office_id=015&code=005930&page=1&sm=', 'https://finance.naver.com/item/news_read.nhn?article_id=0004614469&office_id=014&code=005930&page=1&sm=', 'https://finance.naver.com/item/news_read.nhn?article_id=0001816858&office_id=016&code=005930&page=1&sm=', 'https://finance.naver.com/item/news_read.nhn?article_id=0004567911&office_id=008&code=005930&page=1&sm=', 'https://finance.naver.com/item/news_read.nhn?article_id=0001816708&office_id=016&code=005930&page=1&sm=', 'https://finance.naver.com/item/news_read.nhn?article_id=0004878780&office_id=277&code=005930&page=1&sm=', 'https://finance.naver.com/item/news_read.nhn?article_id=0003892703&office_id=011&code=005930&page=1&sm=', 'https://finance.naver.com/item/news_read.nhn?article_id=0004878987&office_id=277&code=005930&page=1&sm=', 'https://finance.naver.com/item/news_read.nhn?article_id=0004567998&office_id=008&code=005930&page=1&sm=', 'https://finance.naver.com/item/news_read.nhn?article_id=0001816820&office_id=016&code=005930&page=1&sm=', 'https://finance.naver.com/item/news_read.nhn?article_id=0004774403&office_id=009&code=005930&page=1&sm=', 'https://finance.naver.com/item/news_read.nhn?article_id=0003892773&office_id=011&code=005930&page=1&sm=', 'https://finance.naver.com/item/news_read.nhn?article_id=0004893250&office_id=018&code=005930&page=1&sm=', 'https://finance.naver.com/item/news_read.nhn?article_id=0004878880&office_id=277&code=005930&page=1&sm=', 'https://finance.naver.com/item/news_read.nhn?article_id=0001816817&office_id=016&code=005930&page=1&sm=', 'https://finance.naver.com/item/news_read.nhn?article_id=0004774404&office_id=009&code=005930&page=1&sm=', 'https://finance.naver.com/item/news_read.nhn?article_id=0004893249&office_id=018&code=005930&page=1&sm=']\n",
            "[' 2021.04.05 14:11', ' 2021.04.05 13:58', ' 2021.04.05 14:00', ' 2021.04.05 11:24', ' 2021.04.05 10:24', ' 2021.04.05 10:03', ' 2021.04.05 10:00', ' 2021.04.05 10:00', ' 2021.04.05 12:10', ' 2021.04.05 11:58', ' 2021.04.05 11:04', ' 2021.04.05 11:03', ' 2021.04.05 11:01', ' 2021.04.05 11:01', ' 2021.04.05 11:00', ' 2021.04.05 11:03', ' 2021.04.05 11:03']\n",
            "['아시아경제', '한국경제', '파이낸셜뉴스', '헤럴드경제', '머니투데이', '헤럴드경제', '아시아경제', '서울경제', '아시아경제', '머니투데이', '헤럴드경제', '매일경제', '서울경제', '이데일리', '아시아경제', '헤럴드경제', '매일경제']\n",
            "hi\n",
            "005930\n"
          ],
          "name": "stdout"
        }
      ]
    }
  ]
}